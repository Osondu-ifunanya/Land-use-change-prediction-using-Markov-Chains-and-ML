{
 "cells": [
  {
   "cell_type": "code",
   "execution_count": null,
   "id": "a119e51e-85f4-47cc-b1ee-f32cebd3b5c9",
   "metadata": {},
   "outputs": [],
   "source": []
  }
 ],
 "metadata": {
  "kernelspec": {
   "display_name": "",
   "name": ""
  },
  "language_info": {
   "name": ""
  }
 },
 "nbformat": 4,
 "nbformat_minor": 5
}
